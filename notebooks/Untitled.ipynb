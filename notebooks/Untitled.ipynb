{
 "cells": [
  {
   "cell_type": "code",
   "execution_count": 1,
   "id": "3c3efc3d",
   "metadata": {},
   "outputs": [
    {
     "name": "stdout",
     "output_type": "stream",
     "text": [
      "The Zen of Python, by Tim Peters\n",
      "\n",
      "Beautiful is better than ugly.\n",
      "Explicit is better than implicit.\n",
      "Simple is better than complex.\n",
      "Complex is better than complicated.\n",
      "Flat is better than nested.\n",
      "Sparse is better than dense.\n",
      "Readability counts.\n",
      "Special cases aren't special enough to break the rules.\n",
      "Although practicality beats purity.\n",
      "Errors should never pass silently.\n",
      "Unless explicitly silenced.\n",
      "In the face of ambiguity, refuse the temptation to guess.\n",
      "There should be one-- and preferably only one --obvious way to do it.\n",
      "Although that way may not be obvious at first unless you're Dutch.\n",
      "Now is better than never.\n",
      "Although never is often better than *right* now.\n",
      "If the implementation is hard to explain, it's a bad idea.\n",
      "If the implementation is easy to explain, it may be a good idea.\n",
      "Namespaces are one honking great idea -- let's do more of those!\n"
     ]
    }
   ],
   "source": [
    "import os\n",
    "import glob\n",
    "import seaborn as sns\n",
    "import re\n",
    "import pandas as pd\n",
    "import plotly.express as px\n",
    "from pathlib import Path\n",
    "import matplotlib.pyplot as plt\n",
    "import numpy as np\n",
    "\n",
    "# hbn-specific libraries - make sure you have installed and activated the conda environment (conda activate healthy-brain-network) \n",
    "# the virtual environment for this project, and make sure you have created an ipykernel for this environment (ipython kernel install --name \"hbn\" --user)\n",
    "from hbn.constants import Defaults\n",
    "from hbn.data import make_dataset\n",
    "from hbn.features import build_features\n",
    "from hbn.features.feature_selection import phenotype_features\n",
    "\n",
    "%load_ext autoreload\n",
    "%autoreload 2\n",
    "\n",
    "import warnings\n",
    "warnings.filterwarnings('ignore')\n"
   ]
  },
  {
   "cell_type": "code",
   "execution_count": null,
   "id": "69c3ab5e",
   "metadata": {},
   "outputs": [],
   "source": [
    "## PREPROCESS DATA\n",
    "#from hbn.scripts import preprocess_phenotype, make_phenotype_specs\n",
    "\n",
    "## RUN THIS CELL ##\n",
    "\n",
    "# Preprocess data\n",
    "#preprocess_phenotype.run()\n",
    "\n",
    "# get specs\n",
    "#make_phenotype_specs.run()"
   ]
  },
  {
   "cell_type": "code",
   "execution_count": null,
   "id": "fd4bfc9a",
   "metadata": {},
   "outputs": [],
   "source": []
  }
 ],
 "metadata": {
  "kernelspec": {
   "display_name": "hbn_new",
   "language": "python",
   "name": "hbn_new"
  },
  "language_info": {
   "codemirror_mode": {
    "name": "ipython",
    "version": 3
   },
   "file_extension": ".py",
   "mimetype": "text/x-python",
   "name": "python",
   "nbconvert_exporter": "python",
   "pygments_lexer": "ipython3",
   "version": "3.10.8"
  }
 },
 "nbformat": 4,
 "nbformat_minor": 5
}
