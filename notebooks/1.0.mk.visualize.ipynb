{
 "cells": [
  {
   "cell_type": "code",
   "execution_count": 1,
   "id": "f71b5a23",
   "metadata": {},
   "outputs": [],
   "source": [
    "import numpy as np\n",
    "import pandas as pd\n",
    "from matplotlib import pyplot as plt\n",
    "import seaborn as sns \n",
    "\n",
    "from src import item_analysis\n",
    "\n",
    "import plotly.io as pio\n",
    "pio.renderers.default='notebook'\n",
    "\n",
    "%load_ext autoreload\n",
    "%autoreload 2"
   ]
  },
  {
   "cell_type": "markdown",
   "id": "b6d89535",
   "metadata": {},
   "source": [
    "## Accessing data\n",
    "\n",
    "### Openmind\n",
    "*om2/user/maedbh/item_analysis/data*\n",
    "\n",
    "### Google Drive\n",
    "https://drive.google.com/drive/folders/1ylVmbKlmIZg5KWwnMSwMVHY1tcJglqjT?usp=sharing\n",
    "\n",
    "### Data Organization\n",
    "    ├── data                                  <- Data folder (hosted on Google Drive and OpenMind)\n",
    "    │   ├── Child-features-preprocessed.csv   <- All features (preprocessed) for Child questionnaires\n",
    "    │   ├── Child-features-raw.csv            <- All features (raw) for Child questionnaires\n",
    "    │   ├── Parent-features-preprocessed.csv  <- All features (preprocessed) for Parent questionnaires\n",
    "    │   ├── Parent-features-raw.csv           <- All features (raw) for Parent questionnaires\n",
    "    │   ├── Teacher-features-preprocessed.csv <- All features (preprocessed) for Teacher questionnaires\n",
    "    │   ├── Teacher-features-raw.csv          <- All features (raw) for Teacher questionnaires\n",
    "    │   ├── item-names-cleaned.csv            <- Dictionary linking questionnaire columns to question keys\n",
    "    │   ├── participants.csv                  <- Participant identifiers (for entire dataset)\n"
   ]
  },
  {
   "cell_type": "code",
   "execution_count": 83,
   "id": "079fc73b",
   "metadata": {},
   "outputs": [
    {
     "name": "stderr",
     "output_type": "stream",
     "text": [
      "/Users/maedbhking/Documents/item_analysis/src/item_analysis.py:24: DtypeWarning:\n",
      "\n",
      "Columns (137,152) have mixed types. Specify dtype option on import or set low_memory=False.\n",
      "\n"
     ]
    }
   ],
   "source": [
    "# load data\n",
    "\n",
    "# set data dir (wherever data csv files are saved)\n",
    "data_dir = '/Users/maedbhking/Documents/item_analysis/data' # set data dir\n",
    "\n",
    "df_data, df_dict, df_diagnosis = item_analysis.load_data(\n",
    "                                        data_dir=data_dir, \n",
    "                                        assessment='Parent', # Teacher, Child\n",
    "                                        data_type='preprocessed'\n",
    "                                        )\n"
   ]
  },
  {
   "cell_type": "code",
   "execution_count": 123,
   "id": "3027a6ba",
   "metadata": {},
   "outputs": [],
   "source": [
    "item_analysis.load_data?"
   ]
  },
  {
   "cell_type": "markdown",
   "id": "f86461bb",
   "metadata": {},
   "source": [
    "## Assessment List\n",
    "\n",
    "All behavioral questionnaires are detailed in this assessment list: https://docs.google.com/spreadsheets/d/1sGb3ECGR47BzIWNZwzh4ARrjFaf5ByVA/edit?usp=sharing&ouid=110847987931723045299&rtpof=true&sd=true\n",
    "\n",
    "For each assessment (Child, Parent, Teacher) there are multiple domains and within each domain there are multiple measures. Each measure is given an abbreviation (e.g., Temporal Discounting Task is abbreviated as *TempDisc*)\n"
   ]
  },
  {
   "cell_type": "markdown",
   "id": "3693eed3",
   "metadata": {},
   "source": [
    "# Inspecting data dictionary\n",
    "\n",
    "The data dictionary contains all of the questions (6119) that are administered to every participant in the healthy brain network dataset (incl. Child, Parent, and Teacher Measures)\n",
    "\n",
    "Structure of dictionary:\n",
    "* **questions**: the exact question that is asked \n",
    "* **keys**: unique identifier for each question\n",
    "* **datadic**: abbreviated name of each measure, should correspond to **Abbreviation(s) LORIS** in Assessment Link (although there are some differences): https://docs.google.com/spreadsheets/d/1sGb3ECGR47BzIWNZwzh4ARrjFaf5ByVA/edit?usp=sharing&ouid=110847987931723045299&rtpof=true&sd=true\n",
    "* **col_name**: the column name linking each question to the data (data are in **df_data** dataframe)\n",
    "* **assessment**: assessment(e.g., Parent Measures, Child Measures, Teacher Measures)\n",
    "* **domains**: domain (e.g., Demographic_Questionnaire_Measures)\n",
    "* **measures**: measures (e.g., Child Mind Institute Symptom Checker)"
   ]
  },
  {
   "cell_type": "code",
   "execution_count": 84,
   "id": "86bb0e07",
   "metadata": {},
   "outputs": [
    {
     "data": {
      "text/html": [
       "<div>\n",
       "<style scoped>\n",
       "    .dataframe tbody tr th:only-of-type {\n",
       "        vertical-align: middle;\n",
       "    }\n",
       "\n",
       "    .dataframe tbody tr th {\n",
       "        vertical-align: top;\n",
       "    }\n",
       "\n",
       "    .dataframe thead th {\n",
       "        text-align: right;\n",
       "    }\n",
       "</style>\n",
       "<table border=\"1\" class=\"dataframe\">\n",
       "  <thead>\n",
       "    <tr style=\"text-align: right;\">\n",
       "      <th></th>\n",
       "      <th>questions</th>\n",
       "      <th>keys</th>\n",
       "      <th>datadic</th>\n",
       "      <th>col_name</th>\n",
       "      <th>assessment</th>\n",
       "      <th>domains</th>\n",
       "      <th>measures</th>\n",
       "    </tr>\n",
       "  </thead>\n",
       "  <tbody>\n",
       "    <tr>\n",
       "      <th>6114</th>\n",
       "      <td>g. Hallucinogens (psychedelics, LSD, mescaline...</td>\n",
       "      <td>CSC_55gP</td>\n",
       "      <td>SympChck</td>\n",
       "      <td>SympChck,CSC_55gP</td>\n",
       "      <td>Parent Measures</td>\n",
       "      <td>Demographic_Questionnaire_Measures</td>\n",
       "      <td>Child Mind Institute Symptom Checker</td>\n",
       "    </tr>\n",
       "    <tr>\n",
       "      <th>6115</th>\n",
       "      <td>h. Solvents/Inhalants (glue, gasoline, chlorof...</td>\n",
       "      <td>CSC_55hC</td>\n",
       "      <td>SympChck</td>\n",
       "      <td>SympChck,CSC_55hC</td>\n",
       "      <td>Parent Measures</td>\n",
       "      <td>Demographic_Questionnaire_Measures</td>\n",
       "      <td>Child Mind Institute Symptom Checker</td>\n",
       "    </tr>\n",
       "    <tr>\n",
       "      <th>6116</th>\n",
       "      <td>h. Solvents/Inhalants (glue, gasoline, chlorof...</td>\n",
       "      <td>CSC_55hP</td>\n",
       "      <td>SympChck</td>\n",
       "      <td>SympChck,CSC_55hP</td>\n",
       "      <td>Parent Measures</td>\n",
       "      <td>Demographic_Questionnaire_Measures</td>\n",
       "      <td>Child Mind Institute Symptom Checker</td>\n",
       "    </tr>\n",
       "    <tr>\n",
       "      <th>6117</th>\n",
       "      <td>i. Other (prescription drugs, nitrous oxide, e...</td>\n",
       "      <td>CSC_55iC</td>\n",
       "      <td>SympChck</td>\n",
       "      <td>SympChck,CSC_55iC</td>\n",
       "      <td>Parent Measures</td>\n",
       "      <td>Demographic_Questionnaire_Measures</td>\n",
       "      <td>Child Mind Institute Symptom Checker</td>\n",
       "    </tr>\n",
       "    <tr>\n",
       "      <th>6118</th>\n",
       "      <td>i. Other (prescription drugs, nitrous oxide, e...</td>\n",
       "      <td>CSC_55iP</td>\n",
       "      <td>SympChck</td>\n",
       "      <td>SympChck,CSC_55iP</td>\n",
       "      <td>Parent Measures</td>\n",
       "      <td>Demographic_Questionnaire_Measures</td>\n",
       "      <td>Child Mind Institute Symptom Checker</td>\n",
       "    </tr>\n",
       "  </tbody>\n",
       "</table>\n",
       "</div>"
      ],
      "text/plain": [
       "                                              questions      keys   datadic  \\\n",
       "6114  g. Hallucinogens (psychedelics, LSD, mescaline...  CSC_55gP  SympChck   \n",
       "6115  h. Solvents/Inhalants (glue, gasoline, chlorof...  CSC_55hC  SympChck   \n",
       "6116  h. Solvents/Inhalants (glue, gasoline, chlorof...  CSC_55hP  SympChck   \n",
       "6117  i. Other (prescription drugs, nitrous oxide, e...  CSC_55iC  SympChck   \n",
       "6118  i. Other (prescription drugs, nitrous oxide, e...  CSC_55iP  SympChck   \n",
       "\n",
       "               col_name       assessment                             domains  \\\n",
       "6114  SympChck,CSC_55gP  Parent Measures  Demographic_Questionnaire_Measures   \n",
       "6115  SympChck,CSC_55hC  Parent Measures  Demographic_Questionnaire_Measures   \n",
       "6116  SympChck,CSC_55hP  Parent Measures  Demographic_Questionnaire_Measures   \n",
       "6117  SympChck,CSC_55iC  Parent Measures  Demographic_Questionnaire_Measures   \n",
       "6118  SympChck,CSC_55iP  Parent Measures  Demographic_Questionnaire_Measures   \n",
       "\n",
       "                                  measures  \n",
       "6114  Child Mind Institute Symptom Checker  \n",
       "6115  Child Mind Institute Symptom Checker  \n",
       "6116  Child Mind Institute Symptom Checker  \n",
       "6117  Child Mind Institute Symptom Checker  \n",
       "6118  Child Mind Institute Symptom Checker  "
      ]
     },
     "execution_count": 84,
     "metadata": {},
     "output_type": "execute_result"
    }
   ],
   "source": [
    "# data dictionary\n",
    "\n",
    "df_dict.tail(5)"
   ]
  },
  {
   "cell_type": "code",
   "execution_count": 85,
   "id": "cc8eeffa",
   "metadata": {},
   "outputs": [
    {
     "data": {
      "text/plain": [
       "(1725, 7)"
      ]
     },
     "execution_count": 85,
     "metadata": {},
     "output_type": "execute_result"
    }
   ],
   "source": [
    "df_dict.shape"
   ]
  },
  {
   "cell_type": "markdown",
   "id": "4e46c03c",
   "metadata": {},
   "source": [
    "## Inspecting data\n",
    "\n",
    "* Columns: all data columns for a particular assessment (example given here is Parent Measures) + demographics (sex, age, race, ethnicity) + clinical diagnoses (diagnosis, comorbidities)\n",
    "* Rows: all possible participants, each participant has a unique identifier"
   ]
  },
  {
   "cell_type": "code",
   "execution_count": 86,
   "id": "27e181ca",
   "metadata": {},
   "outputs": [
    {
     "data": {
      "text/html": [
       "<div>\n",
       "<style scoped>\n",
       "    .dataframe tbody tr th:only-of-type {\n",
       "        vertical-align: middle;\n",
       "    }\n",
       "\n",
       "    .dataframe tbody tr th {\n",
       "        vertical-align: top;\n",
       "    }\n",
       "\n",
       "    .dataframe thead th {\n",
       "        text-align: right;\n",
       "    }\n",
       "</style>\n",
       "<table border=\"1\" class=\"dataframe\">\n",
       "  <thead>\n",
       "    <tr style=\"text-align: right;\">\n",
       "      <th></th>\n",
       "      <th>Identifiers</th>\n",
       "      <th>Sex</th>\n",
       "      <th>Age</th>\n",
       "      <th>Diagnosis</th>\n",
       "      <th>comorbidities</th>\n",
       "      <th>Race</th>\n",
       "      <th>Ethnicity</th>\n",
       "      <th>PreInt_EduHx,CPSE</th>\n",
       "      <th>PreInt_EduHx,EI</th>\n",
       "      <th>PreInt_EduHx,IEP</th>\n",
       "      <th>...</th>\n",
       "      <th>WHODAS_P,WHODAS_P_Days01</th>\n",
       "      <th>WHODAS_P,WHODAS_P_Days02</th>\n",
       "      <th>WHODAS_P,WHODAS_P_Days03</th>\n",
       "      <th>WHODAS_P,WHODAS_P_Total</th>\n",
       "      <th>DailyMeds,alcohol</th>\n",
       "      <th>DailyMeds,caffiene</th>\n",
       "      <th>DailyMeds,drugs</th>\n",
       "      <th>DailyMeds,hours_sleep</th>\n",
       "      <th>DailyMeds,medications</th>\n",
       "      <th>DailyMeds,nicotine</th>\n",
       "    </tr>\n",
       "  </thead>\n",
       "  <tbody>\n",
       "    <tr>\n",
       "      <th>0</th>\n",
       "      <td>NDARAA075AMK</td>\n",
       "      <td>-1.323148</td>\n",
       "      <td>-1.035197</td>\n",
       "      <td>-0.724913</td>\n",
       "      <td>-0.888546</td>\n",
       "      <td>-1.734135</td>\n",
       "      <td>-1.866216</td>\n",
       "      <td>-0.613334</td>\n",
       "      <td>-0.545866</td>\n",
       "      <td>-1.077767</td>\n",
       "      <td>...</td>\n",
       "      <td>0.000000</td>\n",
       "      <td>-5.110389e-17</td>\n",
       "      <td>0.000000</td>\n",
       "      <td>-1.341494e-16</td>\n",
       "      <td>2.125544e+00</td>\n",
       "      <td>-1.319479e+00</td>\n",
       "      <td>2.111489e+00</td>\n",
       "      <td>-2.271922</td>\n",
       "      <td>7.876414e+00</td>\n",
       "      <td>2.125544e+00</td>\n",
       "    </tr>\n",
       "    <tr>\n",
       "      <th>1</th>\n",
       "      <td>NDARAA112DMH</td>\n",
       "      <td>0.755773</td>\n",
       "      <td>-1.372556</td>\n",
       "      <td>-0.635508</td>\n",
       "      <td>-0.269201</td>\n",
       "      <td>-1.213304</td>\n",
       "      <td>-0.570331</td>\n",
       "      <td>-0.613334</td>\n",
       "      <td>-0.545866</td>\n",
       "      <td>-1.077767</td>\n",
       "      <td>...</td>\n",
       "      <td>0.000000</td>\n",
       "      <td>-5.110389e-17</td>\n",
       "      <td>0.000000</td>\n",
       "      <td>-1.341494e-16</td>\n",
       "      <td>2.125544e+00</td>\n",
       "      <td>-1.319479e+00</td>\n",
       "      <td>2.111489e+00</td>\n",
       "      <td>4.546433</td>\n",
       "      <td>-1.580221e+00</td>\n",
       "      <td>2.125544e+00</td>\n",
       "    </tr>\n",
       "    <tr>\n",
       "      <th>2</th>\n",
       "      <td>NDARAA117NEJ</td>\n",
       "      <td>0.755773</td>\n",
       "      <td>-0.821792</td>\n",
       "      <td>-0.635508</td>\n",
       "      <td>-0.269201</td>\n",
       "      <td>-1.213304</td>\n",
       "      <td>-0.570331</td>\n",
       "      <td>-0.613334</td>\n",
       "      <td>-0.545866</td>\n",
       "      <td>-1.077767</td>\n",
       "      <td>...</td>\n",
       "      <td>-0.532893</td>\n",
       "      <td>-3.365649e-01</td>\n",
       "      <td>-0.373375</td>\n",
       "      <td>6.593918e-01</td>\n",
       "      <td>2.125544e+00</td>\n",
       "      <td>-1.319479e+00</td>\n",
       "      <td>2.111489e+00</td>\n",
       "      <td>-0.412371</td>\n",
       "      <td>7.876414e+00</td>\n",
       "      <td>2.125544e+00</td>\n",
       "    </tr>\n",
       "    <tr>\n",
       "      <th>3</th>\n",
       "      <td>NDARAA306NT2</td>\n",
       "      <td>-1.323148</td>\n",
       "      <td>3.099052</td>\n",
       "      <td>-0.546104</td>\n",
       "      <td>3.446868</td>\n",
       "      <td>-1.734135</td>\n",
       "      <td>0.725554</td>\n",
       "      <td>-0.613334</td>\n",
       "      <td>-0.545866</td>\n",
       "      <td>0.966150</td>\n",
       "      <td>...</td>\n",
       "      <td>1.031089</td>\n",
       "      <td>4.266465e+00</td>\n",
       "      <td>4.305747</td>\n",
       "      <td>2.389542e+00</td>\n",
       "      <td>8.860923e-16</td>\n",
       "      <td>-2.984377e-16</td>\n",
       "      <td>-8.978377e-16</td>\n",
       "      <td>0.000000</td>\n",
       "      <td>2.624744e-16</td>\n",
       "      <td>8.860923e-16</td>\n",
       "    </tr>\n",
       "    <tr>\n",
       "      <th>4</th>\n",
       "      <td>NDARAA358BPN</td>\n",
       "      <td>0.755773</td>\n",
       "      <td>0.427258</td>\n",
       "      <td>-0.456699</td>\n",
       "      <td>-0.888546</td>\n",
       "      <td>-1.734135</td>\n",
       "      <td>-1.866216</td>\n",
       "      <td>-0.613334</td>\n",
       "      <td>-0.545866</td>\n",
       "      <td>0.966150</td>\n",
       "      <td>...</td>\n",
       "      <td>0.000000</td>\n",
       "      <td>-5.110389e-17</td>\n",
       "      <td>0.000000</td>\n",
       "      <td>-1.341494e-16</td>\n",
       "      <td>8.860923e-16</td>\n",
       "      <td>-2.984377e-16</td>\n",
       "      <td>-8.978377e-16</td>\n",
       "      <td>0.000000</td>\n",
       "      <td>2.624744e-16</td>\n",
       "      <td>8.860923e-16</td>\n",
       "    </tr>\n",
       "    <tr>\n",
       "      <th>5</th>\n",
       "      <td>NDARAA504CRN</td>\n",
       "      <td>-1.323148</td>\n",
       "      <td>-0.339743</td>\n",
       "      <td>-0.367295</td>\n",
       "      <td>1.588833</td>\n",
       "      <td>-0.692474</td>\n",
       "      <td>-0.570331</td>\n",
       "      <td>-0.613334</td>\n",
       "      <td>-0.545866</td>\n",
       "      <td>-1.077767</td>\n",
       "      <td>...</td>\n",
       "      <td>-0.532893</td>\n",
       "      <td>-3.365649e-01</td>\n",
       "      <td>-0.373375</td>\n",
       "      <td>-2.846010e-01</td>\n",
       "      <td>8.860923e-16</td>\n",
       "      <td>-2.984377e-16</td>\n",
       "      <td>-8.978377e-16</td>\n",
       "      <td>0.000000</td>\n",
       "      <td>2.624744e-16</td>\n",
       "      <td>8.860923e-16</td>\n",
       "    </tr>\n",
       "    <tr>\n",
       "      <th>6</th>\n",
       "      <td>NDARAA536PTU</td>\n",
       "      <td>0.755773</td>\n",
       "      <td>0.468663</td>\n",
       "      <td>-0.367295</td>\n",
       "      <td>-0.888546</td>\n",
       "      <td>-1.213304</td>\n",
       "      <td>-0.570331</td>\n",
       "      <td>-0.613334</td>\n",
       "      <td>-0.545866</td>\n",
       "      <td>-1.077767</td>\n",
       "      <td>...</td>\n",
       "      <td>0.000000</td>\n",
       "      <td>-5.110389e-17</td>\n",
       "      <td>0.000000</td>\n",
       "      <td>-1.341494e-16</td>\n",
       "      <td>8.860923e-16</td>\n",
       "      <td>-2.984377e-16</td>\n",
       "      <td>-8.978377e-16</td>\n",
       "      <td>0.000000</td>\n",
       "      <td>2.624744e-16</td>\n",
       "      <td>8.860923e-16</td>\n",
       "    </tr>\n",
       "    <tr>\n",
       "      <th>7</th>\n",
       "      <td>NDARAA773LUW</td>\n",
       "      <td>-1.323148</td>\n",
       "      <td>0.936781</td>\n",
       "      <td>-0.724913</td>\n",
       "      <td>-0.888546</td>\n",
       "      <td>-0.171644</td>\n",
       "      <td>0.725554</td>\n",
       "      <td>-0.613334</td>\n",
       "      <td>-0.545866</td>\n",
       "      <td>0.966150</td>\n",
       "      <td>...</td>\n",
       "      <td>-1.054221</td>\n",
       "      <td>-3.365649e-01</td>\n",
       "      <td>0.796405</td>\n",
       "      <td>-1.071513e+00</td>\n",
       "      <td>8.860923e-16</td>\n",
       "      <td>-2.984377e-16</td>\n",
       "      <td>-8.978377e-16</td>\n",
       "      <td>0.000000</td>\n",
       "      <td>2.624744e-16</td>\n",
       "      <td>8.860923e-16</td>\n",
       "    </tr>\n",
       "    <tr>\n",
       "      <th>8</th>\n",
       "      <td>NDARAA940JHB</td>\n",
       "      <td>0.755773</td>\n",
       "      <td>0.633502</td>\n",
       "      <td>-0.635508</td>\n",
       "      <td>-0.888546</td>\n",
       "      <td>-0.692474</td>\n",
       "      <td>-0.570331</td>\n",
       "      <td>-0.613334</td>\n",
       "      <td>-0.545866</td>\n",
       "      <td>-1.077767</td>\n",
       "      <td>...</td>\n",
       "      <td>-0.949955</td>\n",
       "      <td>-3.365649e-01</td>\n",
       "      <td>-0.139419</td>\n",
       "      <td>-4.424366e-01</td>\n",
       "      <td>8.860923e-16</td>\n",
       "      <td>-2.984377e-16</td>\n",
       "      <td>-8.978377e-16</td>\n",
       "      <td>0.000000</td>\n",
       "      <td>2.624744e-16</td>\n",
       "      <td>8.860923e-16</td>\n",
       "    </tr>\n",
       "    <tr>\n",
       "      <th>9</th>\n",
       "      <td>NDARAA947ZG5</td>\n",
       "      <td>0.755773</td>\n",
       "      <td>0.933623</td>\n",
       "      <td>-0.635508</td>\n",
       "      <td>0.969488</td>\n",
       "      <td>0.349187</td>\n",
       "      <td>0.725554</td>\n",
       "      <td>-0.613334</td>\n",
       "      <td>-0.545866</td>\n",
       "      <td>0.966150</td>\n",
       "      <td>...</td>\n",
       "      <td>-0.011566</td>\n",
       "      <td>-5.110389e-17</td>\n",
       "      <td>0.000000</td>\n",
       "      <td>1.131388e+00</td>\n",
       "      <td>8.860923e-16</td>\n",
       "      <td>-2.984377e-16</td>\n",
       "      <td>-8.978377e-16</td>\n",
       "      <td>0.000000</td>\n",
       "      <td>2.624744e-16</td>\n",
       "      <td>8.860923e-16</td>\n",
       "    </tr>\n",
       "  </tbody>\n",
       "</table>\n",
       "<p>10 rows × 1759 columns</p>\n",
       "</div>"
      ],
      "text/plain": [
       "    Identifiers       Sex       Age  Diagnosis  comorbidities      Race  \\\n",
       "0  NDARAA075AMK -1.323148 -1.035197  -0.724913      -0.888546 -1.734135   \n",
       "1  NDARAA112DMH  0.755773 -1.372556  -0.635508      -0.269201 -1.213304   \n",
       "2  NDARAA117NEJ  0.755773 -0.821792  -0.635508      -0.269201 -1.213304   \n",
       "3  NDARAA306NT2 -1.323148  3.099052  -0.546104       3.446868 -1.734135   \n",
       "4  NDARAA358BPN  0.755773  0.427258  -0.456699      -0.888546 -1.734135   \n",
       "5  NDARAA504CRN -1.323148 -0.339743  -0.367295       1.588833 -0.692474   \n",
       "6  NDARAA536PTU  0.755773  0.468663  -0.367295      -0.888546 -1.213304   \n",
       "7  NDARAA773LUW -1.323148  0.936781  -0.724913      -0.888546 -0.171644   \n",
       "8  NDARAA940JHB  0.755773  0.633502  -0.635508      -0.888546 -0.692474   \n",
       "9  NDARAA947ZG5  0.755773  0.933623  -0.635508       0.969488  0.349187   \n",
       "\n",
       "   Ethnicity  PreInt_EduHx,CPSE  PreInt_EduHx,EI  PreInt_EduHx,IEP  ...  \\\n",
       "0  -1.866216          -0.613334        -0.545866         -1.077767  ...   \n",
       "1  -0.570331          -0.613334        -0.545866         -1.077767  ...   \n",
       "2  -0.570331          -0.613334        -0.545866         -1.077767  ...   \n",
       "3   0.725554          -0.613334        -0.545866          0.966150  ...   \n",
       "4  -1.866216          -0.613334        -0.545866          0.966150  ...   \n",
       "5  -0.570331          -0.613334        -0.545866         -1.077767  ...   \n",
       "6  -0.570331          -0.613334        -0.545866         -1.077767  ...   \n",
       "7   0.725554          -0.613334        -0.545866          0.966150  ...   \n",
       "8  -0.570331          -0.613334        -0.545866         -1.077767  ...   \n",
       "9   0.725554          -0.613334        -0.545866          0.966150  ...   \n",
       "\n",
       "   WHODAS_P,WHODAS_P_Days01  WHODAS_P,WHODAS_P_Days02  \\\n",
       "0                  0.000000             -5.110389e-17   \n",
       "1                  0.000000             -5.110389e-17   \n",
       "2                 -0.532893             -3.365649e-01   \n",
       "3                  1.031089              4.266465e+00   \n",
       "4                  0.000000             -5.110389e-17   \n",
       "5                 -0.532893             -3.365649e-01   \n",
       "6                  0.000000             -5.110389e-17   \n",
       "7                 -1.054221             -3.365649e-01   \n",
       "8                 -0.949955             -3.365649e-01   \n",
       "9                 -0.011566             -5.110389e-17   \n",
       "\n",
       "   WHODAS_P,WHODAS_P_Days03  WHODAS_P,WHODAS_P_Total  DailyMeds,alcohol  \\\n",
       "0                  0.000000            -1.341494e-16       2.125544e+00   \n",
       "1                  0.000000            -1.341494e-16       2.125544e+00   \n",
       "2                 -0.373375             6.593918e-01       2.125544e+00   \n",
       "3                  4.305747             2.389542e+00       8.860923e-16   \n",
       "4                  0.000000            -1.341494e-16       8.860923e-16   \n",
       "5                 -0.373375            -2.846010e-01       8.860923e-16   \n",
       "6                  0.000000            -1.341494e-16       8.860923e-16   \n",
       "7                  0.796405            -1.071513e+00       8.860923e-16   \n",
       "8                 -0.139419            -4.424366e-01       8.860923e-16   \n",
       "9                  0.000000             1.131388e+00       8.860923e-16   \n",
       "\n",
       "   DailyMeds,caffiene  DailyMeds,drugs  DailyMeds,hours_sleep  \\\n",
       "0       -1.319479e+00     2.111489e+00              -2.271922   \n",
       "1       -1.319479e+00     2.111489e+00               4.546433   \n",
       "2       -1.319479e+00     2.111489e+00              -0.412371   \n",
       "3       -2.984377e-16    -8.978377e-16               0.000000   \n",
       "4       -2.984377e-16    -8.978377e-16               0.000000   \n",
       "5       -2.984377e-16    -8.978377e-16               0.000000   \n",
       "6       -2.984377e-16    -8.978377e-16               0.000000   \n",
       "7       -2.984377e-16    -8.978377e-16               0.000000   \n",
       "8       -2.984377e-16    -8.978377e-16               0.000000   \n",
       "9       -2.984377e-16    -8.978377e-16               0.000000   \n",
       "\n",
       "   DailyMeds,medications  DailyMeds,nicotine  \n",
       "0           7.876414e+00        2.125544e+00  \n",
       "1          -1.580221e+00        2.125544e+00  \n",
       "2           7.876414e+00        2.125544e+00  \n",
       "3           2.624744e-16        8.860923e-16  \n",
       "4           2.624744e-16        8.860923e-16  \n",
       "5           2.624744e-16        8.860923e-16  \n",
       "6           2.624744e-16        8.860923e-16  \n",
       "7           2.624744e-16        8.860923e-16  \n",
       "8           2.624744e-16        8.860923e-16  \n",
       "9           2.624744e-16        8.860923e-16  \n",
       "\n",
       "[10 rows x 1759 columns]"
      ]
     },
     "execution_count": 86,
     "metadata": {},
     "output_type": "execute_result"
    }
   ],
   "source": [
    "df_data.head(10)"
   ]
  },
  {
   "cell_type": "code",
   "execution_count": 87,
   "id": "721aa86d",
   "metadata": {},
   "outputs": [
    {
     "data": {
      "text/plain": [
       "(4767, 1759)"
      ]
     },
     "execution_count": 87,
     "metadata": {},
     "output_type": "execute_result"
    }
   ],
   "source": [
    "df_data.shape"
   ]
  },
  {
   "cell_type": "markdown",
   "id": "871b39bc",
   "metadata": {},
   "source": [
    "## Get information on clinical diagnosis \n",
    "* When data are preprocessed (as they are here), all columns are numeric - imputed and scaled (mean 0 and std 1). \n",
    "* To get categorical values for some of the numeric columns (e.g,. Sex, Diagnosis, Race, Ethnicity), merge identfiers with **df_diagnosis** - see below"
   ]
  },
  {
   "cell_type": "code",
   "execution_count": 88,
   "id": "d0ec9dd0",
   "metadata": {},
   "outputs": [
    {
     "data": {
      "text/html": [
       "<div>\n",
       "<style scoped>\n",
       "    .dataframe tbody tr th:only-of-type {\n",
       "        vertical-align: middle;\n",
       "    }\n",
       "\n",
       "    .dataframe tbody tr th {\n",
       "        vertical-align: top;\n",
       "    }\n",
       "\n",
       "    .dataframe thead th {\n",
       "        text-align: right;\n",
       "    }\n",
       "</style>\n",
       "<table border=\"1\" class=\"dataframe\">\n",
       "  <thead>\n",
       "    <tr style=\"text-align: right;\">\n",
       "      <th></th>\n",
       "      <th>Identifiers</th>\n",
       "      <th>Age_raw</th>\n",
       "      <th>Sex_raw</th>\n",
       "      <th>Diagnosis_raw</th>\n",
       "      <th>Race_raw</th>\n",
       "      <th>Ethnicity_raw</th>\n",
       "      <th>Sex</th>\n",
       "      <th>Age</th>\n",
       "      <th>Diagnosis</th>\n",
       "      <th>comorbidities</th>\n",
       "      <th>...</th>\n",
       "      <th>WHODAS_P,WHODAS_P_Days01</th>\n",
       "      <th>WHODAS_P,WHODAS_P_Days02</th>\n",
       "      <th>WHODAS_P,WHODAS_P_Days03</th>\n",
       "      <th>WHODAS_P,WHODAS_P_Total</th>\n",
       "      <th>DailyMeds,alcohol</th>\n",
       "      <th>DailyMeds,caffiene</th>\n",
       "      <th>DailyMeds,drugs</th>\n",
       "      <th>DailyMeds,hours_sleep</th>\n",
       "      <th>DailyMeds,medications</th>\n",
       "      <th>DailyMeds,nicotine</th>\n",
       "    </tr>\n",
       "  </thead>\n",
       "  <tbody>\n",
       "    <tr>\n",
       "      <th>0</th>\n",
       "      <td>NDARAA075AMK</td>\n",
       "      <td>6.728040</td>\n",
       "      <td>female</td>\n",
       "      <td>No Diagnosis Given</td>\n",
       "      <td>Unknown</td>\n",
       "      <td>Unknown</td>\n",
       "      <td>-1.323148</td>\n",
       "      <td>-1.035197</td>\n",
       "      <td>-0.724913</td>\n",
       "      <td>-0.888546</td>\n",
       "      <td>...</td>\n",
       "      <td>0.000000</td>\n",
       "      <td>-5.110389e-17</td>\n",
       "      <td>0.000000</td>\n",
       "      <td>-1.341494e-16</td>\n",
       "      <td>2.125544e+00</td>\n",
       "      <td>-1.319479e+00</td>\n",
       "      <td>2.111489e+00</td>\n",
       "      <td>-2.271922</td>\n",
       "      <td>7.876414e+00</td>\n",
       "      <td>2.125544e+00</td>\n",
       "    </tr>\n",
       "    <tr>\n",
       "      <th>1</th>\n",
       "      <td>NDARAA112DMH</td>\n",
       "      <td>5.545744</td>\n",
       "      <td>male</td>\n",
       "      <td>ADHD-Combined Type</td>\n",
       "      <td>Hispanic</td>\n",
       "      <td>Hispanic or Latino</td>\n",
       "      <td>0.755773</td>\n",
       "      <td>-1.372556</td>\n",
       "      <td>-0.635508</td>\n",
       "      <td>-0.269201</td>\n",
       "      <td>...</td>\n",
       "      <td>0.000000</td>\n",
       "      <td>-5.110389e-17</td>\n",
       "      <td>0.000000</td>\n",
       "      <td>-1.341494e-16</td>\n",
       "      <td>2.125544e+00</td>\n",
       "      <td>-1.319479e+00</td>\n",
       "      <td>2.111489e+00</td>\n",
       "      <td>4.546433</td>\n",
       "      <td>-1.580221e+00</td>\n",
       "      <td>2.125544e+00</td>\n",
       "    </tr>\n",
       "    <tr>\n",
       "      <th>2</th>\n",
       "      <td>NDARAA117NEJ</td>\n",
       "      <td>7.475929</td>\n",
       "      <td>male</td>\n",
       "      <td>ADHD-Combined Type</td>\n",
       "      <td>Hispanic</td>\n",
       "      <td>Hispanic or Latino</td>\n",
       "      <td>0.755773</td>\n",
       "      <td>-0.821792</td>\n",
       "      <td>-0.635508</td>\n",
       "      <td>-0.269201</td>\n",
       "      <td>...</td>\n",
       "      <td>-0.532893</td>\n",
       "      <td>-3.365649e-01</td>\n",
       "      <td>-0.373375</td>\n",
       "      <td>6.593918e-01</td>\n",
       "      <td>2.125544e+00</td>\n",
       "      <td>-1.319479e+00</td>\n",
       "      <td>2.111489e+00</td>\n",
       "      <td>-0.412371</td>\n",
       "      <td>7.876414e+00</td>\n",
       "      <td>2.125544e+00</td>\n",
       "    </tr>\n",
       "    <tr>\n",
       "      <th>3</th>\n",
       "      <td>NDARAA306NT2</td>\n",
       "      <td>21.216746</td>\n",
       "      <td>female</td>\n",
       "      <td>Generalized Anxiety Disorder</td>\n",
       "      <td>Unknown</td>\n",
       "      <td>White/Caucasian</td>\n",
       "      <td>-1.323148</td>\n",
       "      <td>3.099052</td>\n",
       "      <td>-0.546104</td>\n",
       "      <td>3.446868</td>\n",
       "      <td>...</td>\n",
       "      <td>1.031089</td>\n",
       "      <td>4.266465e+00</td>\n",
       "      <td>4.305747</td>\n",
       "      <td>2.389542e+00</td>\n",
       "      <td>8.860923e-16</td>\n",
       "      <td>-2.984377e-16</td>\n",
       "      <td>-8.978377e-16</td>\n",
       "      <td>0.000000</td>\n",
       "      <td>2.624744e-16</td>\n",
       "      <td>8.860923e-16</td>\n",
       "    </tr>\n",
       "    <tr>\n",
       "      <th>4</th>\n",
       "      <td>NDARAA358BPN</td>\n",
       "      <td>11.853296</td>\n",
       "      <td>male</td>\n",
       "      <td>No Diagnosis Given: Incomplete Eval</td>\n",
       "      <td>Unknown</td>\n",
       "      <td>Unknown</td>\n",
       "      <td>0.755773</td>\n",
       "      <td>0.427258</td>\n",
       "      <td>-0.456699</td>\n",
       "      <td>-0.888546</td>\n",
       "      <td>...</td>\n",
       "      <td>0.000000</td>\n",
       "      <td>-5.110389e-17</td>\n",
       "      <td>0.000000</td>\n",
       "      <td>-1.341494e-16</td>\n",
       "      <td>8.860923e-16</td>\n",
       "      <td>-2.984377e-16</td>\n",
       "      <td>-8.978377e-16</td>\n",
       "      <td>0.000000</td>\n",
       "      <td>2.624744e-16</td>\n",
       "      <td>8.860923e-16</td>\n",
       "    </tr>\n",
       "  </tbody>\n",
       "</table>\n",
       "<p>5 rows × 1764 columns</p>\n",
       "</div>"
      ],
      "text/plain": [
       "    Identifiers    Age_raw Sex_raw                        Diagnosis_raw  \\\n",
       "0  NDARAA075AMK   6.728040  female                   No Diagnosis Given   \n",
       "1  NDARAA112DMH   5.545744    male                   ADHD-Combined Type   \n",
       "2  NDARAA117NEJ   7.475929    male                   ADHD-Combined Type   \n",
       "3  NDARAA306NT2  21.216746  female         Generalized Anxiety Disorder   \n",
       "4  NDARAA358BPN  11.853296    male  No Diagnosis Given: Incomplete Eval   \n",
       "\n",
       "   Race_raw       Ethnicity_raw       Sex       Age  Diagnosis  comorbidities  \\\n",
       "0   Unknown             Unknown -1.323148 -1.035197  -0.724913      -0.888546   \n",
       "1  Hispanic  Hispanic or Latino  0.755773 -1.372556  -0.635508      -0.269201   \n",
       "2  Hispanic  Hispanic or Latino  0.755773 -0.821792  -0.635508      -0.269201   \n",
       "3   Unknown     White/Caucasian -1.323148  3.099052  -0.546104       3.446868   \n",
       "4   Unknown             Unknown  0.755773  0.427258  -0.456699      -0.888546   \n",
       "\n",
       "   ...  WHODAS_P,WHODAS_P_Days01  WHODAS_P,WHODAS_P_Days02  \\\n",
       "0  ...                  0.000000             -5.110389e-17   \n",
       "1  ...                  0.000000             -5.110389e-17   \n",
       "2  ...                 -0.532893             -3.365649e-01   \n",
       "3  ...                  1.031089              4.266465e+00   \n",
       "4  ...                  0.000000             -5.110389e-17   \n",
       "\n",
       "   WHODAS_P,WHODAS_P_Days03  WHODAS_P,WHODAS_P_Total  DailyMeds,alcohol  \\\n",
       "0                  0.000000            -1.341494e-16       2.125544e+00   \n",
       "1                  0.000000            -1.341494e-16       2.125544e+00   \n",
       "2                 -0.373375             6.593918e-01       2.125544e+00   \n",
       "3                  4.305747             2.389542e+00       8.860923e-16   \n",
       "4                  0.000000            -1.341494e-16       8.860923e-16   \n",
       "\n",
       "   DailyMeds,caffiene  DailyMeds,drugs  DailyMeds,hours_sleep  \\\n",
       "0       -1.319479e+00     2.111489e+00              -2.271922   \n",
       "1       -1.319479e+00     2.111489e+00               4.546433   \n",
       "2       -1.319479e+00     2.111489e+00              -0.412371   \n",
       "3       -2.984377e-16    -8.978377e-16               0.000000   \n",
       "4       -2.984377e-16    -8.978377e-16               0.000000   \n",
       "\n",
       "   DailyMeds,medications  DailyMeds,nicotine  \n",
       "0           7.876414e+00        2.125544e+00  \n",
       "1          -1.580221e+00        2.125544e+00  \n",
       "2           7.876414e+00        2.125544e+00  \n",
       "3           2.624744e-16        8.860923e-16  \n",
       "4           2.624744e-16        8.860923e-16  \n",
       "\n",
       "[5 rows x 1764 columns]"
      ]
     },
     "execution_count": 88,
     "metadata": {},
     "output_type": "execute_result"
    }
   ],
   "source": [
    "# merge diagnosis categorical information with data\n",
    "\n",
    "df_data_dx = df_diagnosis[['Identifiers', 'Age', 'Sex', 'Diagnosis', 'Race', 'Ethnicity']].merge(df_data, on=['Identifiers'])\n",
    "df_data_dx.columns = df_data_dx.columns.str.replace('_x', '_raw').str.replace('_y', '')\n",
    "\n",
    "\n",
    "df_data_dx.head(5)"
   ]
  },
  {
   "cell_type": "markdown",
   "id": "42772e1a",
   "metadata": {},
   "source": [
    "## Doing item analysis on sentences within and across measures\n",
    "\n",
    "One question that we have with this dataset is how similar sentences (within and between) measures are semantically similar to each other (i.e. are they arriving at similar constructs). Each measure was designed to measure specific constructs, however, it is not clear the extent to which there is overlap across the many measures that are administered to children in order to arrive at a diagnosis.\n",
    "\n",
    "By applying machine learning tools (e.g., transformer models: https://www.sbert.net/), we can statistically assess the semantic similarity between sentences.\n",
    "\n",
    "Then, knowing the similarity between questions, we can compare the similarity between responses to these questions. "
   ]
  },
  {
   "cell_type": "markdown",
   "id": "930d0085",
   "metadata": {},
   "source": [
    "## Example\n",
    "\n",
    "To start, take one measure \"CBCL\" (https://docs.google.com/spreadsheets/d/1sWNibCIiNhaQSMG3YEszyQvSl8qe7CT3/edit?usp=sharing&ouid=110847987931723045299&rtpof=true&sd=true) and determine the similarity across sentences within this questionnaire"
   ]
  },
  {
   "cell_type": "code",
   "execution_count": 89,
   "id": "239daa6b",
   "metadata": {},
   "outputs": [
    {
     "data": {
      "text/plain": [
       "array(['APQ_P', 'ARI_P', 'ASSQ', 'Barratt', 'CBCL', 'CBCL_Pre', 'CIS_P',\n",
       "       'DTS', 'ESWAN', 'FSQ', 'ICU_P', 'MFQ_P', 'NLES_P', 'PBQ', 'PCIAT',\n",
       "       'PhenX_Neighborhood', 'PreInt_Demos_Home', 'PreInt_FamHx_RDC',\n",
       "       'PreInt_Lang', 'PSI', 'RBS', 'SAS', 'SCARED_P', 'SCQ', 'SDQ',\n",
       "       'SRS', 'SRS_Pre', 'SWAN', 'Vineland', 'WHODAS_P', 'SympChck'],\n",
       "      dtype=object)"
      ]
     },
     "execution_count": 89,
     "metadata": {},
     "output_type": "execute_result"
    }
   ],
   "source": [
    "# all possible measures to index\n",
    "df_dict['datadic'].unique()"
   ]
  },
  {
   "cell_type": "code",
   "execution_count": 126,
   "id": "acabe082",
   "metadata": {
    "scrolled": true
   },
   "outputs": [
    {
     "name": "stdout",
     "output_type": "stream",
     "text": [
      "      CBCL,CBCL_01  CBCL,CBCL_02  CBCL,CBCL_03  CBCL,CBCL_04  CBCL,CBCL_05  \\\n",
      "0        -0.998677 -1.287918e-01     -1.318523 -1.513130e+00     -0.553205   \n",
      "1         0.000000 -2.412916e-17      0.000000 -3.342349e-16      0.000000   \n",
      "2        -0.998677 -1.287918e-01      1.456829 -7.869706e-03      1.377283   \n",
      "3         2.015954 -1.287918e-01      0.069153 -7.869706e-03      1.377283   \n",
      "4         0.000000 -2.412916e-17      0.000000 -3.342349e-16      0.000000   \n",
      "...            ...           ...           ...           ...           ...   \n",
      "4762     -0.998677 -1.287918e-01      1.456829  1.497390e+00      3.307771   \n",
      "4763      0.508639 -1.287918e-01      0.069153 -7.869706e-03     -0.553205   \n",
      "4764     -0.998677 -1.287918e-01     -1.318523 -1.513130e+00     -0.553205   \n",
      "4765     -0.998677  1.378072e+01      1.456829  1.497390e+00      3.307771   \n",
      "4766      2.015954 -1.287918e-01      1.456829 -1.513130e+00      1.377283   \n",
      "\n",
      "      CBCL,CBCL_06  CBCL,CBCL_07  CBCL,CBCL_08  CBCL,CBCL_09  CBCL,CBCL_10  \\\n",
      "0        -0.220852      1.042083 -1.701193e+00 -9.056769e-01     -1.317224   \n",
      "1         0.000000      0.000000  3.240416e-16  1.540112e-16      0.000000   \n",
      "2        -0.220852      1.042083  1.217514e+00  1.868742e+00      0.048798   \n",
      "3         3.609065     -0.695135 -2.418397e-01  4.815325e-01     -1.317224   \n",
      "4         0.000000      0.000000  3.240416e-16  1.540112e-16      0.000000   \n",
      "...            ...           ...           ...           ...           ...   \n",
      "4762      7.438981      2.779302  1.217514e+00  1.868742e+00     -1.317224   \n",
      "4763     -0.220852     -0.695135 -1.701193e+00 -9.056769e-01     -1.317224   \n",
      "4764     -0.220852     -0.695135 -1.701193e+00 -9.056769e-01     -1.317224   \n",
      "4765     -0.220852      1.042083  1.217514e+00  4.815325e-01     -1.317224   \n",
      "4766     -0.220852      2.779302 -2.418397e-01  4.815325e-01      0.048798   \n",
      "\n",
      "      ...  CBCL,CBCL_SC  CBCL,CBCL_SC_T  CBCL,CBCL_SP  CBCL,CBCL_SP_T  \\\n",
      "0     ... -1.608774e-01       -0.198167 -9.092968e-01   -9.693627e-01   \n",
      "1     ... -1.725878e-16        0.000000 -1.353845e-16    9.528337e-16   \n",
      "2     ...  2.170922e+00        1.988684  1.224715e+00    1.176228e+00   \n",
      "3     ...  2.170922e+00        1.988684  6.149977e-01    1.042129e+00   \n",
      "4     ... -1.725878e-16        0.000000 -1.353845e-16    9.528337e-16   \n",
      "...   ...           ...             ...           ...             ...   \n",
      "4762  ...  2.277558e-01        0.485224  9.198566e-01    1.176228e+00   \n",
      "4763  ... -5.495106e-01       -0.608202  5.279881e-03    3.716315e-01   \n",
      "4764  ... -5.495106e-01       -0.608202 -1.214156e+00   -1.103462e+00   \n",
      "4765  ...  1.005022e+00        1.305293 -2.995790e-01   -3.066676e-02   \n",
      "4766  ... -9.381438e-01       -1.018237  1.529574e+00    1.578526e+00   \n",
      "\n",
      "      CBCL,CBCL_TP  CBCL,CBCL_TP_T  CBCL,CBCL_Total  CBCL,CBCL_Total_T  \\\n",
      "0        -1.103230   -1.129369e+00        -1.415370      -1.877452e+00   \n",
      "1         0.000000    8.995816e-16         0.000000       6.976624e-16   \n",
      "2         0.483082    6.430986e-01         0.788843       1.068165e+00   \n",
      "3         1.752132    1.782542e+00         1.401125       1.166353e+00   \n",
      "4         0.000000    8.995816e-16         0.000000       6.976624e-16   \n",
      "...            ...             ...              ...                ...   \n",
      "4762      1.434869    1.402728e+00         1.523581       1.264540e+00   \n",
      "4763      0.165819    6.430986e-01        -0.476539      -2.082689e-01   \n",
      "4764     -0.785968   -8.761598e-01        -1.456189      -1.975640e+00   \n",
      "4765     -0.151443    1.007426e-02         1.074575       9.699782e-01   \n",
      "4766      1.752132    1.529333e+00         1.278668       1.166353e+00   \n",
      "\n",
      "      CBCL,CBCL_WD  CBCL,CBCL_WD_T  \n",
      "0        -0.991627   -1.012695e+00  \n",
      "1         0.000000    8.724171e-16  \n",
      "2        -0.619690   -5.215675e-01  \n",
      "3         1.611935    1.320159e+00  \n",
      "4         0.000000    8.724171e-16  \n",
      "...            ...             ...  \n",
      "4762      3.099684    2.793541e+00  \n",
      "4763      0.496122    2.151233e-01  \n",
      "4764     -0.991627   -1.012695e+00  \n",
      "4765      0.868060    5.834686e-01  \n",
      "4766      0.868060    5.834686e-01  \n",
      "\n",
      "[4767 rows x 146 columns]\n",
      "['1. Acts too young for his/her age', \"2. Drinks alcohol without parents' approval\", '3. Argues a lot', '4. Fails to finish things he/she starts', '5. There is very little he/she enjoys', '6. Bowel movements outside toilet', '7. Bragging, boasting', \"8. Can't concentrate, can't pay attention for long\", '\"9. Can\\'t get his/her mind off certain thoughts obsessions\"', \"10. Can't sit still, restless or hyperactive\", '11. Clings to adults or too dependent', '12. Complains of loneliness', '13. Confused or seems to be in a fog', '14. Cries a lot', '15. Cruel to animals', '16. Cruelty, bullying, or meanness to others', '17. Daydreams or gets lost in his/her thoughts', '18. Deliberately harms self or attempts suicide', '19. Demands a lot of attention', '20. Destroys his/her own things', '21. Destroys things belonging to his/her family or others', '22. Disobedient at home', '23. Disobedient at school', \"24. Doesn't eat well\", \"25. Doesn't get along well with other kids\", \"26. Doesn't seem to feel guilty after misbehaving\", '27. Easily jealous', '28. Breaks rules at home, school, or elsewhere', '29. Fears certain animals, situations, or places, other than school', '30. Fears going to school', '31. Fears he/she might think or do something bad', '32. Feels he/she has to be perfect', '33. Feels or complains that no one loves him/her', '34. Feels others are out to get him/her', '35. Feels worthless or inferior', '36. Gets hurt a lot, accident-prone', '37. Gets in many fights', '38. Gets teased a lot', '39. Hangs around with others who get in trouble', \"40. Hears sounds or voices that aren't there\", '41. Impulsive or acts without thinking', '42. Would rather be alone than with others', '43. Lying or cheating', '44. Bites fingernails', '45. Nervous, highstrung, or tense', '46. Nervous movements or twitching', '47. Nightmares', '48. Not liked by other kids', \"49. Constipated, doesn't move bowels\", '50. Too fearful or anxious', '51. Feels dizzy or lightheaded', '52. Feels too guilty', '53. Overeating', '54. Overtired without good reason', '55. Overweight', '56A. Aches or pains (not stomach or headaches)', '56B. Headaches', '56C. Nausea, feels sick', '56D.A. Problems with eyes (not if corrected by glasses', '56E. Rashes or other skin problems', '56F. Stomachaches', '56G. Vomiting, throwing up', '56H.A. Other', '57. Physically attacks people', '58. Picks nose, skin, or other parts of body', '59. Plays with own sex parts in public', '60. Plays with own sex parts too much', '61. Poor school work', '62. Poorly coordinated or clumsy', '63. Prefers being with older kids', '64. Prefers being with younger kids', '65. Refuses to talk', '\"66. Repeats certain acts over and over compulsions \"', '67. Runs away from home', '68. Screams a lot', '69. Secretive, keeps things to self', \"70. Sees things that aren't there\", '71. Self-conscious or easily embarrassed', '72. Sets fires', '73. Sexual problems', '74. Showing off or clowning', '75. Too shy or timid', '76. Sleeps less than most kids', '77. Sleeps more than most kids during day and/or night', '78. Inattentive or easily distracted', '79. Speech problem', '80. Stares blankly', '81. Steals at home', '82. Steals outside the home', \"83. Stores up too many things he/she doesn't need\", '84. Strange behavior', '85. Strange ideas', '86. Stubborn, sullen, or irritable', '87. Sudden changes in mood or feelings', '88. Sulks a lot', '89. Suspicious', '90. Swearing or obscene language', '91. Talks about killing self', '92. Talks or walks in sleep', '93. Talks too much', '94. Teases a lot', '95. Temper tantrums or hot temper', '96. Thinks about sex too much', '97. Threatens people', '98. Thumb-sucking', '99. Smokes, chews, or sniffs tobacco', '100. Trouble sleeping', '101. Truancy, skips school', '102. Underactive, slow moving, or lacks energy', '103. Unhappy, sad, or depressed', '104. Unusually loud', \"105. Uses drugs for nonmedical purposes (don't include alcohol or tobacco)\", '106. Vandalism', '107. Wets self during the day', '108. Wets the bed', '109. Whining', '110. Wishes to be of opposite sex', \"111. Withdrawn, doesn't get inolved with others\", '112. Worries', '113A. Has other problem', '113B. Has other problem', '113C. Has other problem', 'Anxious/Depressed Raw Score', 'Anxious/Depressed T Score', 'Withdrawn/Depressed Raw Score', 'Withdrawn/Depressed T Score', 'Somatic Complaints Raw Score', 'Somatic Complaints T Score', 'Social Problems Raw Score', 'Social Problems T Score', 'Thought Problems Raw Score', 'Thought Problems T Score', 'Attention Problems Raw Score', 'Attention Problems T Score', 'Rule Breaking Behavior Raw Score', 'Rule Breaking Behavior T Score', 'Aggressive Behavior Raw Score', 'Aggressive Behavior T Score', 'Other Problems Raw Score', 'Internalizing Raw Score', 'Internalizing T Score', 'Externalizing Raw Score', 'Externalizing T Score', 'C Score Raw Score', 'Total Raw Score', 'Total T Score']\n"
     ]
    }
   ],
   "source": [
    "## Get Answers + Questions for example measure (CBCL)\n",
    "\n",
    "# get CBCL questions\n",
    "sentences = df_dict[df_dict['datadic']=='CBCL']['questions'].tolist()\n",
    "\n",
    "# get answers to CBCL questions\n",
    "cols_to_include = df_data.columns[df_data.columns.str.contains('CBCL,')]\n",
    "df_A = df_data[cols_to_include]\n",
    "\n",
    "print(df_A)\n",
    "\n",
    "print(sentences)"
   ]
  },
  {
   "cell_type": "markdown",
   "id": "b1f5e37f",
   "metadata": {},
   "source": [
    "## Calculate sentence similarity\n",
    "\n",
    "Uses basic bert model to calculate sentence similarity across all sentence combinations"
   ]
  },
  {
   "cell_type": "code",
   "execution_count": null,
   "id": "b700f57d",
   "metadata": {},
   "outputs": [],
   "source": [
    "# calculate sentence similarity\n",
    "cosine_scores, pairs = item_analysis.sentence_similarity(sentences)"
   ]
  },
  {
   "cell_type": "markdown",
   "id": "c80a1d7e",
   "metadata": {},
   "source": [
    "## Plot heatmap and dendrogram of cosine scores\n",
    "(these are just two examples of ways to visualize the results output)"
   ]
  },
  {
   "cell_type": "code",
   "execution_count": 128,
   "id": "45c57d87",
   "metadata": {
    "scrolled": false
   },
   "outputs": [
    {
     "data": {
      "image/png": "[encoded data removed]",
      "text/plain": [
       "<Figure size 640x480 with 2 Axes>"
      ]
     },
     "metadata": {},
     "output_type": "display_data"
    },
    {
     "data": {
      "image/png": "[encoded data removed]",
      "text/plain": [
       "<Figure size 2500x800 with 1 Axes>"
      ]
     },
     "metadata": {},
     "output_type": "display_data"
    }
   ],
   "source": [
    "# plot heatmap\n",
    "item_analysis.plot_heatmap(array=cosine_scores, labels=None);\n",
    "\n",
    "# plot dendrogram\n",
    "item_analysis.dendrogram_plot(dataframe=cosine_scores);"
   ]
  },
  {
   "cell_type": "markdown",
   "id": "c5e8438d",
   "metadata": {},
   "source": [
    "## Plot distribution of scores and sentence similarities\n",
    "\n",
    "plot the distribution of scores for the sentence pairs (0-1 range) with 1 being most semantically similar and 0 being least semantically similar\n",
    "\n",
    "then, plot the top 25% of most semantically similar sentences"
   ]
  },
  {
   "cell_type": "code",
   "execution_count": 113,
   "id": "71d940ce",
   "metadata": {
    "scrolled": false
   },
   "outputs": [
    {
     "data": {
      "image/png": "[encoded data removed]",
      "text/plain": [
       "<Figure size 640x480 with 1 Axes>"
      ]
     },
     "metadata": {},
     "output_type": "display_data"
    },
    {
     "name": "stdout",
     "output_type": "stream",
     "text": [
      "+--------------------------------------------+-------------------------------------+----------+\n",
      "| CBCL                                       |                                     |          |\n",
      "+============================================+=====================================+==========+\n",
      "| Sentence 1                                 | Sentence 2                          | Question |\n",
      "+--------------------------------------------+-------------------------------------+----------+\n",
      "| 113A. Has other problem                    | 113B. Has other problem             | 0.99     |\n",
      "+--------------------------------------------+-------------------------------------+----------+\n",
      "| 113A. Has other problem                    | 113C. Has other problem             | 0.99     |\n",
      "+--------------------------------------------+-------------------------------------+----------+\n",
      "| 113B. Has other problem                    | 113C. Has other problem             | 0.99     |\n",
      "+--------------------------------------------+-------------------------------------+----------+\n",
      "| Internalizing T Score                      | Externalizing T Score               | 0.96     |\n",
      "+--------------------------------------------+-------------------------------------+----------+\n",
      "| Thought Problems T Score                   | Attention Problems T Score          | 0.95     |\n",
      "+--------------------------------------------+-------------------------------------+----------+\n",
      "| Thought Problems Raw Score                 | Attention Problems Raw Score        | 0.94     |\n",
      "+--------------------------------------------+-------------------------------------+----------+\n",
      "| Internalizing Raw Score                    | Externalizing Raw Score             | 0.94     |\n",
      "+--------------------------------------------+-------------------------------------+----------+\n",
      "| Withdrawn/Depressed Raw Score              | Withdrawn/Depressed T Score         | 0.93     |\n",
      "+--------------------------------------------+-------------------------------------+----------+\n",
      "| Anxious/Depressed Raw Score                | Anxious/Depressed T Score           | 0.93     |\n",
      "+--------------------------------------------+-------------------------------------+----------+\n",
      "| 63. Prefers being with older kids          | 64. Prefers being with younger kids | 0.91     |\n",
      "+--------------------------------------------+-------------------------------------+----------+\n",
      "| Anxious/Depressed T Score                  | Withdrawn/Depressed T Score         | 0.9      |\n",
      "+--------------------------------------------+-------------------------------------+----------+\n",
      "| 56B. Headaches                             | 56C. Nausea, feels sick             | 0.9      |\n",
      "+--------------------------------------------+-------------------------------------+----------+\n",
      "| 84. Strange behavior                       | 85. Strange ideas                   | 0.9      |\n",
      "+--------------------------------------------+-------------------------------------+----------+\n",
      "| Anxious/Depressed Raw Score                | Withdrawn/Depressed Raw Score       | 0.89     |\n",
      "+--------------------------------------------+-------------------------------------+----------+\n",
      "| 25. Doesn't get along well with other kids | 48. Not liked by other kids         | 0.88     |\n",
      "+--------------------------------------------+-------------------------------------+----------+\n",
      "| Social Problems T Score                    | Attention Problems T Score          | 0.88     |\n",
      "+--------------------------------------------+-------------------------------------+----------+\n",
      "| 56B. Headaches                             | 56F. Stomachaches                   | 0.87     |\n",
      "+--------------------------------------------+-------------------------------------+----------+\n",
      "| Externalizing Raw Score                    | Externalizing T Score               | 0.87     |\n",
      "+--------------------------------------------+-------------------------------------+----------+\n",
      "| Social Problems T Score                    | Thought Problems T Score            | 0.87     |\n",
      "+--------------------------------------------+-------------------------------------+----------+\n",
      "| Somatic Complaints Raw Score               | Thought Problems Raw Score          | 0.86     |\n",
      "+--------------------------------------------+-------------------------------------+----------+\n",
      "| Rule Breaking Behavior Raw Score           | Rule Breaking Behavior T Score      | 0.86     |\n",
      "+--------------------------------------------+-------------------------------------+----------+\n",
      "| Internalizing T Score                      | Total T Score                       | 0.86     |\n",
      "+--------------------------------------------+-------------------------------------+----------+\n",
      "| Somatic Complaints T Score                 | Internalizing T Score               | 0.86     |\n",
      "+--------------------------------------------+-------------------------------------+----------+\n",
      "| Anxious/Depressed T Score                  | Withdrawn/Depressed Raw Score       | 0.85     |\n",
      "+--------------------------------------------+-------------------------------------+----------+\n",
      "| Anxious/Depressed Raw Score                | Attention Problems Raw Score        | 0.85     |\n",
      "+--------------------------------------------+-------------------------------------+----------+\n",
      "| Thought Problems Raw Score                 | Internalizing Raw Score             | 0.85     |\n",
      "+--------------------------------------------+-------------------------------------+----------+\n",
      "| Thought Problems Raw Score                 | Rule Breaking Behavior Raw Score    | 0.85     |\n",
      "+--------------------------------------------+-------------------------------------+----------+\n",
      "| Attention Problems T Score                 | Externalizing T Score               | 0.85     |\n",
      "+--------------------------------------------+-------------------------------------+----------+\n",
      "| Somatic Complaints T Score                 | Externalizing T Score               | 0.85     |\n",
      "+--------------------------------------------+-------------------------------------+----------+\n",
      "| 45. Nervous, highstrung, or tense          | 46. Nervous movements or twitching  | 0.85     |\n",
      "+--------------------------------------------+-------------------------------------+----------+\n",
      "| Anxious/Depressed Raw Score                | Thought Problems Raw Score          | 0.85     |\n",
      "+--------------------------------------------+-------------------------------------+----------+\n",
      "| 81. Steals at home                         | 82. Steals outside the home         | 0.84     |\n",
      "+--------------------------------------------+-------------------------------------+----------+\n",
      "| Attention Problems Raw Score               | Internalizing Raw Score             | 0.84     |\n",
      "+--------------------------------------------+-------------------------------------+----------+\n",
      "| Thought Problems Raw Score                 | Other Problems Raw Score            | 0.84     |\n",
      "+--------------------------------------------+-------------------------------------+----------+\n",
      "| Withdrawn/Depressed Raw Score              | Thought Problems Raw Score          | 0.84     |\n",
      "+--------------------------------------------+-------------------------------------+----------+\n",
      "| Somatic Complaints Raw Score               | Attention Problems Raw Score        | 0.84     |\n",
      "+--------------------------------------------+-------------------------------------+----------+\n"
     ]
    }
   ],
   "source": [
    "\n",
    "# plot distribution of scores\n",
    "scores = [r['score'].tolist() for r in pairs]\n",
    "sns.histplot(scores)\n",
    "plt.show()\n",
    "\n",
    "# plot table\n",
    "item_analysis.plot_top_sentences(pairs, sentences, A_similarity=None, percent=25, title='CBCL')\n"
   ]
  },
  {
   "cell_type": "markdown",
   "id": "844b0055",
   "metadata": {},
   "source": [
    "## Compare answer similarity\n",
    "Take two separate sets of answers (from two different questionnaires) and calculate correlation between them"
   ]
  },
  {
   "cell_type": "code",
   "execution_count": 131,
   "id": "6d3a587e",
   "metadata": {},
   "outputs": [],
   "source": [
    "\n",
    "# get answers to CBCL questions\n",
    "cols_to_include = df_data.columns[df_data.columns.str.contains('CBCL,')]\n",
    "x = df_data[cols_to_include]\n",
    "\n",
    "# get answers to ESWAN questions\n",
    "cols_to_include = df_data.columns[df_data.columns.str.contains('ESWAN,')]\n",
    "y = df_data[cols_to_include]\n"
   ]
  },
  {
   "cell_type": "markdown",
   "id": "d80523f9",
   "metadata": {},
   "source": [
    "## Calculate distance correlation between two questionnaires"
   ]
  },
  {
   "cell_type": "code",
   "execution_count": 122,
   "id": "1a8da256",
   "metadata": {},
   "outputs": [
    {
     "data": {
      "text/plain": [
       "0.5174836049971643"
      ]
     },
     "execution_count": 122,
     "metadata": {},
     "output_type": "execute_result"
    }
   ],
   "source": [
    "import dcor \n",
    "\n",
    "dcor.distance_correlation(x, y)"
   ]
  },
  {
   "cell_type": "markdown",
   "id": "c93dbf65",
   "metadata": {},
   "source": [
    "## The distance correlation t-test of independence"
   ]
  },
  {
   "cell_type": "code",
   "execution_count": 163,
   "id": "af5580ad",
   "metadata": {},
   "outputs": [
    {
     "data": {
      "text/plain": [
       "HypothesisTest(pvalue=0.0, statistic=57.282815452320364)"
      ]
     },
     "execution_count": 163,
     "metadata": {},
     "output_type": "execute_result"
    }
   ],
   "source": [
    "dcor.independence.distance_correlation_t_test(x, y)"
   ]
  },
  {
   "cell_type": "markdown",
   "id": "8bb82b15",
   "metadata": {},
   "source": [
    "As we can observe, this test correctly rejects the null hypothesis in the second case and not in the first case.\n",
    "\n",
    "The test illustrated here is an asymptotic test, that relies in the approximation of the statistic distribution to the Student’s t-distribution under the null hypothesis, when the dimension of the data goes to infinity. This test is thus faster than permutation tests, as it does not require the use of permutations of the data, and it is also deterministic for a given dataset. However, the test should be applied only for high-dimensional data, at least in theory.\n",
    "\n",
    "We will now plot for the case of normal distributions the histogram of the statistic, and compute the Type I error, as seen in Székely and Rizzo1. Users are encouraged to download this example and increase that number to obtain better estimates of the Type I error. In order to replicate the original results, one should set the value of n_tests to 1000."
   ]
  },
  {
   "cell_type": "markdown",
   "id": "4a5df470",
   "metadata": {},
   "source": [
    "## Permutation test of distance correlation"
   ]
  },
  {
   "cell_type": "code",
   "execution_count": null,
   "id": "eceb8e50",
   "metadata": {},
   "outputs": [],
   "source": [
    "item_analysis.distance_correlation_permutation(x,y)"
   ]
  },
  {
   "cell_type": "markdown",
   "id": "63d0ee09",
   "metadata": {},
   "source": [
    "## The distance covariance test of independence"
   ]
  },
  {
   "cell_type": "code",
   "execution_count": 102,
   "id": "46fb81af",
   "metadata": {},
   "outputs": [
    {
     "data": {
      "text/plain": [
       "HypothesisTest(pvalue=0.004975124378109453, statistic=213.46578868208118)"
      ]
     },
     "execution_count": 102,
     "metadata": {},
     "output_type": "execute_result"
    }
   ],
   "source": [
    "random_state = np.random.default_rng(83110)\n",
    "dcor.independence.distance_covariance_test(\n",
    "    x,\n",
    "    y,\n",
    "    num_resamples=200,\n",
    "    random_state=random_state,\n",
    ")"
   ]
  },
  {
   "cell_type": "markdown",
   "id": "2a212b10",
   "metadata": {},
   "source": [
    "We can see that the p-value obtained is indeed very small, and thus we can safely reject the null hypothesis, and consider that there is indeed dependence between the random vectors.\n",
    "\n",
    "The next test illustrated here is a permutation test, which compares the distance covariance of the original dataset with the one obtained after random permutations of one of the input arrays. Thus, increasing the number of permutations makes the p-value more accurate, but increases the computational cost. "
   ]
  },
  {
   "cell_type": "markdown",
   "id": "3ca550ae",
   "metadata": {},
   "source": [
    "## Permutation test of distance covariance"
   ]
  },
  {
   "cell_type": "code",
   "execution_count": 156,
   "id": "ed86f3ef",
   "metadata": {},
   "outputs": [
    {
     "data": {
      "image/png": "[encoded data removed]",
      "text/plain": [
       "<Figure size 640x480 with 2 Axes>"
      ]
     },
     "metadata": {},
     "output_type": "display_data"
    }
   ],
   "source": [
    "item_analysis.distance_covariance_permutation(x,y)"
   ]
  },
  {
   "cell_type": "markdown",
   "id": "53aca029",
   "metadata": {},
   "source": [
    "## Monte Carlo Test - get estimates of Type I error\n",
    "\n",
    "We generate independent data following a multivariate Gaussian distribution as well as different \n",
    "t(v) distributions. In all cases we consider random vectors with dimension 5. We perform the tests for different number of observations, computing the number of permutations used as [200 + 5000/n]. We fix the significance level to 0.1."
   ]
  },
  {
   "cell_type": "code",
   "execution_count": null,
   "id": "8502a162",
   "metadata": {},
   "outputs": [],
   "source": [
    "# monte carlo test\n",
    "#item_analysis.monte_carlo_test(x,y)"
   ]
  },
  {
   "cell_type": "markdown",
   "id": "8eacb7e9",
   "metadata": {},
   "source": [
    "## TO DO\n",
    "\n",
    "- add preamble for more context\n",
    "- tdif similarity - check this comparison with sentenceBert (do the results always form a bellcurve?)\n",
    "- what kinds of constructs are being evaluated?\n",
    "- Compare responses across two questionnaires (get correlation distance between two matrices `dcorr`) - number of rows must be the same, but the number of columns can be different\n",
    "- hierarchical clustering on the cosine similarity matrix (of sentences) to determine whether there are clusters that fall out (look both at sentences and responses, are these clusters in alignment?)\n",
    "- compare certain \"clusters\" across questionnaires - anxiety items on CBCL and GAD7 (or anxiety questionnaire). To what extent are they measuring the same construct?\n",
    "- can we get a correlation across items per participant? rather than focus on the group level zoom in on the individual\n",
    "- figure: compare parent vs. teacher vs. child predictions"
   ]
  },
  {
   "cell_type": "code",
   "execution_count": null,
   "id": "66e7ecba",
   "metadata": {},
   "outputs": [],
   "source": []
  }
 ],
 "metadata": {
  "kernelspec": {
   "display_name": "item-analysis",
   "language": "python",
   "name": "item-analysis"
  },
  "language_info": {
   "codemirror_mode": {
    "name": "ipython",
    "version": 3
   },
   "file_extension": ".py",
   "mimetype": "text/x-python",
   "name": "python",
   "nbconvert_exporter": "python",
   "pygments_lexer": "ipython3",
   "version": "3.10.8"
  }
 },
 "nbformat": 4,
 "nbformat_minor": 5
}
